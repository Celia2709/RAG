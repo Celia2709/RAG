{
 "cells": [
  {
   "cell_type": "code",
   "execution_count": null,
   "metadata": {},
   "outputs": [],
   "source": [
    "import pdfplumber\n",
    "from langchain.embeddings import SentenceTransformerEmbeddings\n",
    "from langchain.vectorstores import Chroma\n",
    "from langchain.text_splitter import RecursiveCharacterTextSplitter\n",
    "from langchain.embeddings import HuggingFaceEmbeddings\n",
    "from langchain.schema import Document #asi lee os documentos ben\n",
    "import chromadb\n",
    "from sentence_transformers import SentenceTransformer"
   ]
  },
  {
   "cell_type": "code",
   "execution_count": 21,
   "metadata": {},
   "outputs": [],
   "source": [
    "#carga de datos\n",
    "def cargar_pdf(pdf_path):\n",
    "    texto_completo = \"\"\n",
    "    with pdfplumber.open(pdf_path) as pdf:\n",
    "        for pagina in pdf.pages:\n",
    "            texto_completo += pagina.extract_text()  \n",
    "    return texto_completo"
   ]
  },
  {
   "cell_type": "code",
   "execution_count": 22,
   "metadata": {},
   "outputs": [],
   "source": [
    "# carga de pdfs\n",
    "pdf_paths = [\"/home/celia/Documentos/Receta.pdf\", \"/home/celia/Documentos/iaimpactoambiental.pdf\"]  # Lista de archivos PDF\n",
    "documentos = []\n",
    "\n",
    "for pdf_path in pdf_paths:\n",
    "    texto = cargar_pdf(pdf_path)\n",
    "    documentos.append(texto)"
   ]
  },
  {
   "cell_type": "code",
   "execution_count": 23,
   "metadata": {},
   "outputs": [],
   "source": [
    "#division de textos\n",
    "text_splitter = RecursiveCharacterTextSplitter(chunk_size=1000, chunk_overlap=0)\n",
    "fragmentos = text_splitter.split_text(\"\\n\".join(documentos))"
   ]
  },
  {
   "cell_type": "code",
   "execution_count": null,
   "metadata": {},
   "outputs": [],
   "source": [
    "docs = [Document(page_content=fragmento) for fragmento in fragmentos] # lista chamada docs que contien obxetos da clase Document de LangChain"
   ]
  },
  {
   "cell_type": "code",
   "execution_count": 25,
   "metadata": {},
   "outputs": [],
   "source": [
    "#Creacion embeddings\n",
    "embeddings = HuggingFaceEmbeddings(model_name=\"sentence-transformers/all-mpnet-base-v2\")"
   ]
  },
  {
   "cell_type": "code",
   "execution_count": 26,
   "metadata": {},
   "outputs": [],
   "source": [
    "client = chromadb.Client()\n",
    "vector_store = Chroma.from_documents(docs, embeddings, persist_directory=\"./chroma_web_data\", client=client)"
   ]
  },
  {
   "cell_type": "code",
   "execution_count": null,
   "metadata": {},
   "outputs": [
    {
     "name": "stdout",
     "output_type": "stream",
     "text": [
      "bien. Guarda un poco del aceite por si lo necesitas más tarde para cuajar la tortilla.\n",
      "Paso 3: Batir los huevos1. Batir los huevos: En un bol grande, bate los huevos con una pizca de sal y un poco\n",
      "de pimienta, si lo prefieres. Batir bien, hasta que los huevos estén espumosos y bien\n",
      "mezclados.\n",
      "2. Mezclar con las patatas: Añade las patatas y la cebolla escurridas al bol con los\n",
      "huevos batidos. Remueve suavemente para que las patatas se impregnen bien con\n",
      "el huevo, pero sin deshacerlas demasiado.\n",
      "Paso 4: Cuajar la tortilla\n",
      "1. Calienta una sartén con un poco de aceite: En una sartén más pequeña\n",
      "(idealmente de unos 22-24 cm de diámetro), añade una cucharada del aceite que\n",
      "has reservado o un poco de aceite fresco. Calienta a fuego medio.\n",
      "2. Verter la mezcla: Cuando el aceite esté caliente, vierte la mezcla de patatas, cebolla\n",
      "y huevos en la sartén. Cocina durante unos 4-5 minutos, moviendo la sartén de vez\n",
      "en cuando para que no se pegue y para asegurarte de que se cocina de manera\n",
      "uniforme.\n",
      "3. Voltear la tortilla: Aquí viene la parte más delicada, pero también la más divertida.\n",
      "Cuando veas que los bordes están cuajados y el centro todavía está un poco líquido,\n",
      "usa una espátula para despegar los bordes de la sartén. Coloca un plato grande o\n",
      "una tapa encima de la sartén y, con mucho cuidado, da la vuelta a la tortilla.\n",
      "4. Cocinar el otro lado: Desliza la tortilla de nuevo en la sartén, con el lado crudo\n",
      "hacia abajo, y cocina otros 3-4 minutos más. Si quieres la tortilla más jugosa, no la\n",
      "cocines mucho; si te gusta más hecha, deja que se cocine un poco más.\n",
      "5. Comprobar el punto de cocción: Para saber si está en su punto, puedes pinchar la\n",
      "tortilla con un palillo o un cuchillo. Si sale limpio, ya está lista. Si sale con un poco de\n",
      "huevo crudo, te conviene dejarla unos minutos más.\n",
      "Paso 5: Servir y disfrutar\n",
      "1. Reposar y servir: Una vez cocinada, saca la tortilla de la sartén y deja reposar unos\n",
      "minutos para que asiente. Puedes servirla tanto caliente como fría; la tortilla de\n",
      "patata está deliciosa en cualquier momento del día.\n",
      "2. Acompañamientos: Se puede servir sola, con pan o incluso con una ensalada\n",
      "fresca para acompañar. ¡Es perfecta para picnics, tapas o como plato principal!\n",
      "IMPACTO AMBIENTAL\n",
      "DE LA INTELIGENCIA\n",
      "ARTIFICIAL\n",
      "Todas las acciones realizadas con tecnología,\n",
      "la fabricación, instalación, el entrenamiento de la\n",
      "inteligencia artificial (IA), y su mantenimiento y uso,\n",
      "tienen un impacto en el medio ambiente.\n",
      "Cada búsqueda en Internet, cada clic,\n",
      "cada interacción con herramientas basadas en IA\n",
      "genera una huella digital que se almacena en bases\n",
      "de datos y procesadores de información físicos que\n",
      "consumen energía y agua, generan residuos y\n",
      "emiten gases de efecto invernadero. Un impacto\n",
      "del cual, a menudo, nadie es consciente.\n",
      "CONSCIENCIA DEL IMPACTO\n",
      "Pese a que la contaminación no se ve, saber que el\n",
      "uso de la IA tiene consecuencias en el medio\n"
     ]
    }
   ],
   "source": [
    "# Consulta\n",
    "query = \"¿Que puedo comer hoy?\"\n",
    "resultados = vector_store.similarity_search(query, k=3)\n",
    "\n",
    "# resultados\n",
    "for resultado in resultados:\n",
    "    print(resultado.page_content)"
   ]
  },
  {
   "cell_type": "code",
   "execution_count": 29,
   "metadata": {},
   "outputs": [
    {
     "name": "stdout",
     "output_type": "stream",
     "text": [
      "minutos para que asiente. Puedes servirla tanto caliente como fría; la tortilla de\n",
      "patata está deliciosa en cualquier momento del día.\n",
      "2. Acompañamientos: Se puede servir sola, con pan o incluso con una ensalada\n",
      "fresca para acompañar. ¡Es perfecta para picnics, tapas o como plato principal!\n",
      "IMPACTO AMBIENTAL\n",
      "DE LA INTELIGENCIA\n",
      "ARTIFICIAL\n",
      "Todas las acciones realizadas con tecnología,\n",
      "la fabricación, instalación, el entrenamiento de la\n",
      "inteligencia artificial (IA), y su mantenimiento y uso,\n",
      "tienen un impacto en el medio ambiente.\n",
      "Cada búsqueda en Internet, cada clic,\n",
      "cada interacción con herramientas basadas en IA\n",
      "genera una huella digital que se almacena en bases\n",
      "de datos y procesadores de información físicos que\n",
      "consumen energía y agua, generan residuos y\n",
      "emiten gases de efecto invernadero. Un impacto\n",
      "del cual, a menudo, nadie es consciente.\n",
      "CONSCIENCIA DEL IMPACTO\n",
      "Pese a que la contaminación no se ve, saber que el\n",
      "uso de la IA tiene consecuencias en el medio\n",
      "bien. Guarda un poco del aceite por si lo necesitas más tarde para cuajar la tortilla.\n",
      "Paso 3: Batir los huevos1. Batir los huevos: En un bol grande, bate los huevos con una pizca de sal y un poco\n",
      "de pimienta, si lo prefieres. Batir bien, hasta que los huevos estén espumosos y bien\n",
      "mezclados.\n",
      "2. Mezclar con las patatas: Añade las patatas y la cebolla escurridas al bol con los\n",
      "huevos batidos. Remueve suavemente para que las patatas se impregnen bien con\n",
      "el huevo, pero sin deshacerlas demasiado.\n",
      "Paso 4: Cuajar la tortilla\n",
      "1. Calienta una sartén con un poco de aceite: En una sartén más pequeña\n",
      "(idealmente de unos 22-24 cm de diámetro), añade una cucharada del aceite que\n",
      "has reservado o un poco de aceite fresco. Calienta a fuego medio.\n",
      "2. Verter la mezcla: Cuando el aceite esté caliente, vierte la mezcla de patatas, cebolla\n",
      "y huevos en la sartén. Cocina durante unos 4-5 minutos, moviendo la sartén de vez\n",
      "en cuando para que no se pegue y para asegurarte de que se cocina de manera\n",
      "uniforme.\n",
      "tortilla más \"pura\", puedes saltarte este paso.\n",
      "Paso 2: Freír las patatas y la cebolla\n",
      "1. Calienta el aceite: Vierte abundante aceite de oliva en la sartén (unos 500 ml\n",
      "deberían bastar) y caliéntalo a fuego medio-alto. El aceite debe cubrir bien las\n",
      "patatas y la cebolla.\n",
      "2. Freír las patatas: Cuando el aceite esté caliente (pero no hirviendo), añade las\n",
      "patatas y las cebollas a la sartén. No te preocupes si parecen muchas, porque al\n",
      "freírlas reducirán de volumen. Cocina a fuego medio-bajo para evitar que las patatas\n",
      "se quemen. Remueve de vez en cuando para que se cocinen uniformemente.\n",
      "Consejo: Lo ideal es que las patatas se queden blanditas, casi \"confitas\", pero no\n",
      "crujientes. Este paso puede tardar unos 20-25 minutos. Es importante que no subas\n",
      "demasiado el fuego para que las patatas no se doren demasiado.\n",
      "3. Escurrir el aceite: Cuando las patatas estén blandas (comprobar pinchando con un\n",
      "tenedor), usa un colador para sacar las patatas y la cebolla del aceite y escurrirlas\n"
     ]
    }
   ],
   "source": [
    "# Consulta\n",
    "query = \"¿contamina mucho la IA?\"\n",
    "resultados = vector_store.similarity_search(query, k=3)\n",
    "\n",
    "# resultados\n",
    "for resultado in resultados:\n",
    "    print(resultado.page_content)"
   ]
  }
 ],
 "metadata": {
  "kernelspec": {
   "display_name": "rag",
   "language": "python",
   "name": "python3"
  },
  "language_info": {
   "codemirror_mode": {
    "name": "ipython",
    "version": 3
   },
   "file_extension": ".py",
   "mimetype": "text/x-python",
   "name": "python",
   "nbconvert_exporter": "python",
   "pygments_lexer": "ipython3",
   "version": "3.13.1"
  }
 },
 "nbformat": 4,
 "nbformat_minor": 2
}
