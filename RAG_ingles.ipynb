{
 "cells": [
  {
   "cell_type": "code",
   "execution_count": null,
   "metadata": {},
   "outputs": [],
   "source": [
    "import requests\n",
    "import re\n",
    "from langchain.text_splitter import RecursiveCharacterTextSplitter\n",
    "from langchain.embeddings import HuggingFaceEmbeddings\n",
    "from langchain.vectorstores import Chroma\n",
    "\n",
    "#Extraccion de datos con mensaxe de error\n",
    "def scrape_website(url):\n",
    "    response = requests.get(url)\n",
    "    if response.status_code != 200:\n",
    "        raise Exception(f\"Error al acceder a {url}\")\n",
    "    \n",
    "    # Limpeza de HTML\n",
    "    raw_html = response.text\n",
    "    clean_text = re.sub(r\"<[^>]+>\", \" \", raw_html)  \n",
    "    clean_text = re.sub(r\"\\s+\", \" \", clean_text)  \n",
    "    return clean_text.strip()\n",
    "\n",
    "# seleccion de url\n",
    "url = \"https://en.wikipedia.org/wiki/Epipremnum_aureum\"  \n",
    "#url = \"https://www.thesill.com/blogs/plants-101/how-to-care-for-monstera-monstera-deliciosa?srsltid=AfmBOoq-9qJ59qcOX1ixCMkuX3lrxNwjGdQICWIJQiY_yNC_Irj3NWjo\" \n",
    "data = scrape_website(url)\n"
   ]
  },
  {
   "cell_type": "code",
   "execution_count": null,
   "metadata": {},
   "outputs": [],
   "source": [
    "# Facemos unha division de fragmentos co contido\n",
    "text_splitter = RecursiveCharacterTextSplitter(chunk_size=1000, chunk_overlap=200)\n",
    "documents = text_splitter.create_documents([data])\n",
    "\n"
   ]
  },
  {
   "cell_type": "code",
   "execution_count": null,
   "metadata": {},
   "outputs": [],
   "source": [
    "# Xeramos embeddings \n",
    "embeddings = HuggingFaceEmbeddings(model_name=\"sentence-transformers/all-mpnet-base-v2\")\n",
    "vector_store = Chroma.from_documents(documents, embeddings, persist_directory=\"./chroma_web_data\")"
   ]
  },
  {
   "cell_type": "code",
   "execution_count": null,
   "metadata": {},
   "outputs": [
    {
     "name": "stdout",
     "output_type": "stream",
     "text": [
      "Vector store creado y guardado en ./chroma_web_data\n"
     ]
    },
    {
     "name": "stderr",
     "output_type": "stream",
     "text": [
      "/tmp/ipykernel_25913/2859740850.py:2: LangChainDeprecationWarning: Since Chroma 0.4.x the manual persistence method is no longer supported as docs are automatically persisted.\n",
      "  vector_store.persist()\n"
     ]
    }
   ],
   "source": [
    "# gardamos o vector store \n",
    "vector_store.persist()\n",
    "print(\"Vector store creado y guardado en ./chroma_web_data\")"
   ]
  },
  {
   "cell_type": "code",
   "execution_count": null,
   "metadata": {},
   "outputs": [
    {
     "name": "stdout",
     "output_type": "stream",
     "text": [
      "\n",
      "Resultados encontrados:\n",
      "Resultado 1:\n",
      "countries, it is found in many parks and gardens, and tends to grow naturally. As an indoor plant it can reach more than 2 metres (2&#160;yd) in height if given the adequate support (a trellis or moss pole to climb), but hardly develops adult-sized leaves. The best results are achieved by providing indirect light; it tolerates an intense luminosity, but long periods of direct sunlight burn the leaves. It lives well with a temperature between 17 and 30&#160;°C (63 and 86&#160;°F). Generally, the plant will only need watering when the soil feels dry to the touch (typically once every one to two weeks). A diluted liquid fertilizer once every 1-2 weeks and it must be replanted every two years, or when it becomes too rootbound. &#91; citation needed &#93; However, it is a very robust plant, and will survive bad growing conditions. The plant grows rapidly in hydroponic culture. &#91; 11 &#93; It can be cultivated from a cutting, however, this can carry various diseases such as Erwinia leaf\n",
      "Resultado 2:\n",
      "will survive bad growing conditions. The plant grows rapidly in hydroponic culture. &#91; 11 &#93; It can be cultivated from a cutting, however, this can carry various diseases such as Erwinia leaf spot , Pythium root rot , Rhizoctonia root rot (Rhizoctonia foot rot), Pseudomonas leaf spot , Southern blight , and Xanthomonas blight . &#91; 12 &#93; The plant can remove indoor pollutants such as formaldehyde , trichloroethene , toluene , xylene , and benzene in controlled circumstances (e.g. a sealed room). &#91; 13 &#93; A study found that this effect declined as the molecular weight of the polluting substance increased. &#91; 14 &#93; The plant is sometimes used in aquariums, placed on top of the aquarium, and allowed to grow roots in the water. This is beneficial to the plant and the aquarium as it absorbs nitrates, using them for growth. Propagation [ edit ] The plant can be propagating in two ways; in soil and in water. &#91; 15 &#93; For water propagation, place the cutting(s)\n",
      "Resultado 3:\n",
      "Biology - Plant . 38 (3): 268–271. doi : 10.1079/IVP2001270 . S2CID &#160; 23347421 . ^ Wolverton, B. C. How To Grow Fresh Air , Penguin Books, New York, 1997. ^ Sawada, Ayako; Oyabu, Takashi (2008). \"Purification characteristics of pothos for airborne chemicals in growing conditions and its evaluation\". Atmospheric Environment . 42 (3): 594–602. Bibcode : 2008AtmEn..42..594S . doi : 10.1016/j.atmosenv.2007.10.028 . ^ a b c \"Epipremnum aureum (Golden Pothos) - Plant Care 101\" . October 14, 2024. ^ \"Devils Ivy\" . ASPCA.org . Retrieved 2009-03-11 . ^ Meshram, Srivastava, Anju, Nidhi (Apr–Jun 2014). \"Molecular and physiological role of Epipremnum aureum\" . International Journal of Green Pharmacy . 8 (2): 73–76. doi : 10.4103/0973-8258.129566 . {{ cite journal }} : CS1 maint: multiple names: authors list ( link ) ^ \" 'W. De Costa, H. Hitanayake and I. Dharmawardena, \"A Physiological Investigation into the Invasive Behaviour of Some Plant Species in a Mid-Country Forest Reserve in Sri\n"
     ]
    }
   ],
   "source": [
    "# Consulta de proba\n",
    "query = \"How to care for potho?\"  \n",
    "results = vector_store.similarity_search(query, k=3)\n",
    "\n",
    "print(\"\\nResultados encontrados:\")\n",
    "for i, res in enumerate(results):\n",
    "    print(f\"Resultado {i+1}:\")\n",
    "    print(res.page_content)"
   ]
  },
  {
   "cell_type": "code",
   "execution_count": 9,
   "metadata": {},
   "outputs": [
    {
     "name": "stdout",
     "output_type": "stream",
     "text": [
      "\n",
      "Resultados encontrados:\n",
      "Resultado 1:\n",
      "countries, it is found in many parks and gardens, and tends to grow naturally. As an indoor plant it can reach more than 2 metres (2&#160;yd) in height if given the adequate support (a trellis or moss pole to climb), but hardly develops adult-sized leaves. The best results are achieved by providing indirect light; it tolerates an intense luminosity, but long periods of direct sunlight burn the leaves. It lives well with a temperature between 17 and 30&#160;°C (63 and 86&#160;°F). Generally, the plant will only need watering when the soil feels dry to the touch (typically once every one to two weeks). A diluted liquid fertilizer once every 1-2 weeks and it must be replanted every two years, or when it becomes too rootbound. &#91; citation needed &#93; However, it is a very robust plant, and will survive bad growing conditions. The plant grows rapidly in hydroponic culture. &#91; 11 &#93; It can be cultivated from a cutting, however, this can carry various diseases such as Erwinia leaf\n",
      "Resultado 2:\n",
      "will survive bad growing conditions. The plant grows rapidly in hydroponic culture. &#91; 11 &#93; It can be cultivated from a cutting, however, this can carry various diseases such as Erwinia leaf spot , Pythium root rot , Rhizoctonia root rot (Rhizoctonia foot rot), Pseudomonas leaf spot , Southern blight , and Xanthomonas blight . &#91; 12 &#93; The plant can remove indoor pollutants such as formaldehyde , trichloroethene , toluene , xylene , and benzene in controlled circumstances (e.g. a sealed room). &#91; 13 &#93; A study found that this effect declined as the molecular weight of the polluting substance increased. &#91; 14 &#93; The plant is sometimes used in aquariums, placed on top of the aquarium, and allowed to grow roots in the water. This is beneficial to the plant and the aquarium as it absorbs nitrates, using them for growth. Propagation [ edit ] The plant can be propagating in two ways; in soil and in water. &#91; 15 &#93; For water propagation, place the cutting(s)\n",
      "Resultado 3:\n",
      "sprayed onto the plant, flowering was induced. &#91; 9 &#93; Thus, it is likely safe to assume that none of the plants seen in modern cultivation have truly been grown from seed. However, it is far more efficient to simply multiply an existing plant by dividing it; the species is well-known for its ease of propagation via vegetative growth, developing roots rapidly through cuttings, either rooted in water or grown directly in a well-aerated substrate, such as perlite mixed with vermiculite , or even sphagnum moss . Additional methods of propagation include whole-plant divisions or root divisions, as well as tissue culture propagation. Distribution [ edit ] Originally, it was endemic to the island of Mo'orea from the Society Islands. &#91; 1 &#93; However, it is now wild in many tropical countries. The following ranges are indicated: Bangladesh, India, Myanmar, Thailand, Vietnam, Hainan, Hong Kong, Taiwan, Japan, peninsular Malaysia, Sabah, Sarawak, Singapore, Java, Maluku Islands,\n"
     ]
    }
   ],
   "source": [
    "\n",
    "query = \"What are your roots like?\"  \n",
    "results = vector_store.similarity_search(query, k=3)\n",
    "\n",
    "print(\"\\nResultados encontrados:\")\n",
    "for i, res in enumerate(results):\n",
    "    print(f\"Resultado {i+1}:\")\n",
    "    print(res.page_content)"
   ]
  }
 ],
 "metadata": {
  "kernelspec": {
   "display_name": "rag",
   "language": "python",
   "name": "python3"
  },
  "language_info": {
   "codemirror_mode": {
    "name": "ipython",
    "version": 3
   },
   "file_extension": ".py",
   "mimetype": "text/x-python",
   "name": "python",
   "nbconvert_exporter": "python",
   "pygments_lexer": "ipython3",
   "version": "3.13.1"
  }
 },
 "nbformat": 4,
 "nbformat_minor": 2
}
